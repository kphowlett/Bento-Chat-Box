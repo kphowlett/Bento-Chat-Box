{
 "cells": [
  {
   "cell_type": "code",
   "execution_count": 8,
   "metadata": {},
   "outputs": [],
   "source": [
    "import boto3\n",
    "from access import aws_access"
   ]
  },
  {
   "cell_type": "code",
   "execution_count": 30,
   "metadata": {},
   "outputs": [],
   "source": [
    "runtime_client = boto3.client('lexv2-runtime', region_name = 'us-east-1', aws_access_key_id = aws_access.access_key,\n",
    "                              aws_secret_access_key = aws_access.secret_access_key, aws_session_token = aws_access.session_token)"
   ]
  },
  {
   "cell_type": "code",
   "execution_count": 9,
   "metadata": {},
   "outputs": [],
   "source": [
    "client = boto3.client(service_name = 'lexv2-models', region_name = 'us-east-1', aws_access_key_id = aws_access.access_key,\n",
    "                      aws_secret_access_key = aws_access.secret_access_key, aws_session_token = aws_access.session_token)"
   ]
  },
  {
   "cell_type": "code",
   "execution_count": 12,
   "metadata": {},
   "outputs": [],
   "source": [
    "list_bots = client.list_bots()\n",
    "list_bots"
   ]
  },
  {
   "cell_type": "code",
   "execution_count": 17,
   "metadata": {},
   "outputs": [
    {
     "data": {
      "text/plain": [
       "{'ResponseMetadata': {'RequestId': 'f9e7d06b-71bf-403a-b20c-c0bf5e4cb70a',\n",
       "  'HTTPStatusCode': 200,\n",
       "  'HTTPHeaders': {'date': 'Mon, 10 Jun 2024 16:30:29 GMT',\n",
       "   'content-type': 'application/json',\n",
       "   'content-length': '672',\n",
       "   'connection': 'keep-alive',\n",
       "   'x-amzn-requestid': 'f9e7d06b-71bf-403a-b20c-c0bf5e4cb70a',\n",
       "   'strict-transport-security': 'max-age=31536000; includeSubDomains',\n",
       "   'x-amz-apigw-id': 'ZKOF2Gb9oAMETTw=',\n",
       "   'x-content-type-options': 'nosniff',\n",
       "   'x-amzn-trace-id': 'Root=1-66672a25-3a4c27ab47665ded7bc76295'},\n",
       "  'RetryAttempts': 0},\n",
       " 'botId': '42BS4C4PHY',\n",
       " 'botVersion': 'DRAFT',\n",
       " 'localeId': 'en_US',\n",
       " 'slotTypeSummaries': [{'slotTypeId': 'FQVEXGVV9J',\n",
       "   'slotTypeName': 'filter_options',\n",
       "   'description': 'The filter options for specific cancer cases',\n",
       "   'lastUpdatedDateTime': datetime.datetime(2024, 6, 6, 16, 1, 12, 896000, tzinfo=tzlocal()),\n",
       "   'slotTypeCategory': 'Custom'},\n",
       "  {'slotTypeId': 'GW9AZFHMFU',\n",
       "   'slotTypeName': 'user_choice',\n",
       "   'lastUpdatedDateTime': datetime.datetime(2024, 5, 31, 13, 14, 31, 454000, tzinfo=tzlocal()),\n",
       "   'slotTypeCategory': 'Custom'},\n",
       "  {'slotTypeId': 'XX99SBZL3S',\n",
       "   'slotTypeName': 'initial_options',\n",
       "   'lastUpdatedDateTime': datetime.datetime(2024, 6, 5, 17, 34, 35, 518000, tzinfo=tzlocal()),\n",
       "   'slotTypeCategory': 'Custom'}]}"
      ]
     },
     "execution_count": 17,
     "metadata": {},
     "output_type": "execute_result"
    }
   ],
   "source": [
    "slot_types = client.list_slot_types(\n",
    "    botId = \"42BS4C4PHY\",\n",
    "    botVersion = \"DRAFT\",\n",
    "    localeId = \"en_US\",\n",
    ")\n",
    "slot_types"
   ]
  },
  {
   "cell_type": "code",
   "execution_count": 55,
   "metadata": {},
   "outputs": [],
   "source": [
    "session_info = runtime_client.get_session(\n",
    "    botId = \"42BS4C4PHY\",\n",
    "    botAliasId = \"TSTALIASID\",\n",
    "    localeId = \"en_US\",\n",
    "    sessionId = \"752276070045317\"\n",
    ")"
   ]
  },
  {
   "cell_type": "code",
   "execution_count": 67,
   "metadata": {},
   "outputs": [
    {
     "data": {
      "text/plain": [
       "{'ResponseMetadata': {'RequestId': 'd36c8ab4-cd73-4750-a7e2-b099b789bb4b',\n",
       "  'HTTPStatusCode': 200,\n",
       "  'HTTPHeaders': {'x-amzn-requestid': 'd36c8ab4-cd73-4750-a7e2-b099b789bb4b',\n",
       "   'strict-transport-security': 'max-age=31536000; includeSubDomains',\n",
       "   'x-content-type-options': 'nosniff',\n",
       "   'date': 'Mon, 10 Jun 2024 17:31:33 GMT',\n",
       "   'content-type': 'application/json',\n",
       "   'content-length': '1076',\n",
       "   'connection': 'keep-alive'},\n",
       "  'RetryAttempts': 0},\n",
       " 'sessionId': '752276070045317',\n",
       " 'messages': [{'contentType': 'ImageResponseCard',\n",
       "   'imageResponseCard': {'title': 'Just to confirm, you would like to filter cases by age?',\n",
       "    'buttons': [{'text': 'Yes', 'value': 'yes'},\n",
       "     {'text': 'No', 'value': 'no'}]}}],\n",
       " 'interpretations': [{'intent': {'name': 'download_filtered_cases',\n",
       "    'slots': {'filter_value': {'value': {'originalValue': 'age',\n",
       "       'interpretedValue': 'age',\n",
       "       'resolvedValues': ['age']},\n",
       "      'shape': 'List',\n",
       "      'values': [{'value': {'originalValue': 'age',\n",
       "         'interpretedValue': 'age',\n",
       "         'resolvedValues': ['age']},\n",
       "        'shape': 'Scalar'}]}},\n",
       "    'state': 'InProgress',\n",
       "    'confirmationState': 'None'}}],\n",
       " 'sessionState': {'dialogAction': {'type': 'ConfirmIntent'},\n",
       "  'intent': {'name': 'download_filtered_cases',\n",
       "   'slots': {'filter_value': {'value': {'originalValue': 'age',\n",
       "      'interpretedValue': 'age',\n",
       "      'resolvedValues': ['age']},\n",
       "     'shape': 'List',\n",
       "     'values': [{'value': {'originalValue': 'age',\n",
       "        'interpretedValue': 'age',\n",
       "        'resolvedValues': ['age']},\n",
       "       'shape': 'Scalar'}]}},\n",
       "   'state': 'InProgress',\n",
       "   'confirmationState': 'None'},\n",
       "  'activeContexts': [],\n",
       "  'sessionAttributes': {},\n",
       "  'originatingRequestId': '4f9fcfee-c905-4ed3-b7b4-5baed9be29eb'}}"
      ]
     },
     "execution_count": 67,
     "metadata": {},
     "output_type": "execute_result"
    }
   ],
   "source": [
    "session_info"
   ]
  },
  {
   "cell_type": "code",
   "execution_count": 34,
   "metadata": {},
   "outputs": [
    {
     "data": {
      "text/plain": [
       "dict_keys(['ResponseMetadata', 'sessionId', 'messages', 'interpretations', 'sessionState'])"
      ]
     },
     "execution_count": 34,
     "metadata": {},
     "output_type": "execute_result"
    }
   ],
   "source": [
    "session_info.keys()"
   ]
  },
  {
   "cell_type": "code",
   "execution_count": 58,
   "metadata": {},
   "outputs": [
    {
     "data": {
      "text/plain": [
       "{'RequestId': 'd36c8ab4-cd73-4750-a7e2-b099b789bb4b',\n",
       " 'HTTPStatusCode': 200,\n",
       " 'HTTPHeaders': {'x-amzn-requestid': 'd36c8ab4-cd73-4750-a7e2-b099b789bb4b',\n",
       "  'strict-transport-security': 'max-age=31536000; includeSubDomains',\n",
       "  'x-content-type-options': 'nosniff',\n",
       "  'date': 'Mon, 10 Jun 2024 17:31:33 GMT',\n",
       "  'content-type': 'application/json',\n",
       "  'content-length': '1076',\n",
       "  'connection': 'keep-alive'},\n",
       " 'RetryAttempts': 0}"
      ]
     },
     "execution_count": 58,
     "metadata": {},
     "output_type": "execute_result"
    }
   ],
   "source": [
    "session_info['ResponseMetadata']"
   ]
  },
  {
   "cell_type": "code",
   "execution_count": 57,
   "metadata": {},
   "outputs": [
    {
     "data": {
      "text/plain": [
       "[{'contentType': 'ImageResponseCard',\n",
       "  'imageResponseCard': {'title': 'Just to confirm, you would like to filter cases by age?',\n",
       "   'buttons': [{'text': 'Yes', 'value': 'yes'},\n",
       "    {'text': 'No', 'value': 'no'}]}}]"
      ]
     },
     "execution_count": 57,
     "metadata": {},
     "output_type": "execute_result"
    }
   ],
   "source": [
    "session_info['messages']"
   ]
  },
  {
   "cell_type": "code",
   "execution_count": 83,
   "metadata": {},
   "outputs": [
    {
     "data": {
      "text/plain": [
       "'age'"
      ]
     },
     "execution_count": 83,
     "metadata": {},
     "output_type": "execute_result"
    }
   ],
   "source": [
    "session_info['interpretations'][0]['intent']['slots']['filter_value']['values'][0]['value']['resolvedValues'][0]"
   ]
  },
  {
   "cell_type": "code",
   "execution_count": null,
   "metadata": {},
   "outputs": [],
   "source": []
  }
 ],
 "metadata": {
  "kernelspec": {
   "display_name": "Bento-Chat-Box",
   "language": "python",
   "name": "python3"
  },
  "language_info": {
   "codemirror_mode": {
    "name": "ipython",
    "version": 3
   },
   "file_extension": ".py",
   "mimetype": "text/x-python",
   "name": "python",
   "nbconvert_exporter": "python",
   "pygments_lexer": "ipython3",
   "version": "3.12.2"
  }
 },
 "nbformat": 4,
 "nbformat_minor": 2
}
