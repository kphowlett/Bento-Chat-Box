{
 "cells": [
  {
   "cell_type": "markdown",
   "metadata": {},
   "source": [
    "## Importing Dependencies"
   ]
  },
  {
   "cell_type": "code",
   "execution_count": 1,
   "metadata": {},
   "outputs": [],
   "source": [
    "import boto3\n",
    "from access import aws_access"
   ]
  },
  {
   "cell_type": "markdown",
   "metadata": {},
   "source": [
    "## Initializing the runtime client for lexv2-runtime service"
   ]
  },
  {
   "cell_type": "code",
   "execution_count": 2,
   "metadata": {},
   "outputs": [],
   "source": [
    "# Including the authentication arguments that must be updated every 45 minutes\n",
    "runtime_client = boto3.client('lexv2-runtime', region_name = 'us-east-1', aws_access_key_id = aws_access.aws_access_key_id,\n",
    "                              aws_secret_access_key = aws_access.aws_secret_access_key, aws_session_token = aws_access.aws_session_token)"
   ]
  },
  {
   "cell_type": "markdown",
   "metadata": {},
   "source": [
    "## Arguments to pass to the client to specify our chatbot"
   ]
  },
  {
   "cell_type": "code",
   "execution_count": 3,
   "metadata": {},
   "outputs": [],
   "source": [
    "botId = \"42BS4C4PHY\"\n",
    "botAliasId = \"TSTALIASID\"\n",
    "localeId = \"en_US\"\n",
    "sessionId = '200'"
   ]
  },
  {
   "cell_type": "markdown",
   "metadata": {},
   "source": [
    "## Creating an utterance from our Jupyter Notebook to our AWS Lex Chatbot"
   ]
  },
  {
   "cell_type": "code",
   "execution_count": null,
   "metadata": {},
   "outputs": [],
   "source": [
    "response = runtime_client.recognize_text(\n",
    "    botId = botId,\n",
    "    botAliasId = botAliasId,\n",
    "    localeId = localeId,\n",
    "    sessionId = sessionId,\n",
    "    text = 'User options'\n",
    ")"
   ]
  },
  {
   "cell_type": "markdown",
   "metadata": {},
   "source": [
    "## Reading the current (first) response from our chatbot"
   ]
  },
  {
   "cell_type": "code",
   "execution_count": null,
   "metadata": {},
   "outputs": [],
   "source": [
    "response['messages']"
   ]
  },
  {
   "cell_type": "markdown",
   "metadata": {},
   "source": [
    "## Selecting the Filter Cases Option from user_menu intent"
   ]
  },
  {
   "cell_type": "code",
   "execution_count": null,
   "metadata": {},
   "outputs": [],
   "source": [
    "response = runtime_client.recognize_text(\n",
    "    botId = botId,\n",
    "    botAliasId = botAliasId,\n",
    "    localeId = localeId,\n",
    "    sessionId = sessionId,\n",
    "    text = 'Filter Cases'\n",
    ")"
   ]
  },
  {
   "cell_type": "markdown",
   "metadata": {},
   "source": [
    "## Reading the current (second) response from the chatbot"
   ]
  },
  {
   "cell_type": "code",
   "execution_count": null,
   "metadata": {},
   "outputs": [],
   "source": [
    "response['messages']"
   ]
  },
  {
   "cell_type": "markdown",
   "metadata": {},
   "source": [
    "## Selecting the filter option 'age' from download_filtered_cases intent"
   ]
  },
  {
   "cell_type": "code",
   "execution_count": null,
   "metadata": {},
   "outputs": [],
   "source": [
    "response = runtime_client.recognize_text(\n",
    "    botId = botId,\n",
    "    botAliasId = botAliasId,\n",
    "    localeId = localeId,\n",
    "    sessionId = sessionId,\n",
    "    text = 'age'\n",
    ")"
   ]
  },
  {
   "cell_type": "markdown",
   "metadata": {},
   "source": [
    "## Reading current (third) response from our chatbot"
   ]
  },
  {
   "cell_type": "code",
   "execution_count": null,
   "metadata": {},
   "outputs": [],
   "source": [
    "response['messages']"
   ]
  },
  {
   "cell_type": "markdown",
   "metadata": {},
   "source": [
    "## Confirming the filter option selection"
   ]
  },
  {
   "cell_type": "code",
   "execution_count": null,
   "metadata": {},
   "outputs": [],
   "source": [
    "response = runtime_client.recognize_text(\n",
    "    botId = botId,\n",
    "    botAliasId = botAliasId,\n",
    "    localeId = localeId,\n",
    "    sessionId = sessionId,\n",
    "    text = 'Yes'\n",
    ")"
   ]
  },
  {
   "cell_type": "markdown",
   "metadata": {},
   "source": [
    "## Printing the final response from our chatbot (end session)"
   ]
  },
  {
   "cell_type": "code",
   "execution_count": null,
   "metadata": {},
   "outputs": [],
   "source": [
    "response['messages']"
   ]
  },
  {
   "cell_type": "markdown",
   "metadata": {},
   "source": [
    "## Parsing final response to get the user-selected filter option"
   ]
  },
  {
   "cell_type": "code",
   "execution_count": null,
   "metadata": {},
   "outputs": [],
   "source": [
    "# Only good to run this if we go to filter cases\n",
    "response['interpretations'][0]['intent']['slots']['filter_value']['value']['resolvedValues'][0]"
   ]
  },
  {
   "cell_type": "markdown",
   "metadata": {},
   "source": [
    "## Run this code absolutely last to close the boto3 session"
   ]
  },
  {
   "cell_type": "code",
   "execution_count": null,
   "metadata": {},
   "outputs": [],
   "source": [
    "runtime_client.close()"
   ]
  },
  {
   "cell_type": "code",
   "execution_count": null,
   "metadata": {},
   "outputs": [],
   "source": [
    "def get_filter_selection():\n",
    "    import boto3\n",
    "    from access import aws_access\n",
    "\n",
    "    runtime_client = boto3.client('lexv2-runtime', region_name = 'us-east-1', aws_access_key_id = aws_access.aws_access_key_id,\n",
    "                              aws_secret_access_key = aws_access.aws_secret_access_key, aws_session_token = aws_access.aws_session_token)\n",
    "    botId = \"42BS4C4PHY\"\n",
    "    botAliasId = \"TSTALIASID\"\n",
    "    localeId = \"en_US\"\n",
    "    sessionId = '101'\n",
    "\n",
    "    response = runtime_client.recognize_text(\n",
    "    botId = botId,\n",
    "    botAliasId = botAliasId,\n",
    "    localeId = localeId,\n",
    "    sessionId = sessionId,\n",
    "    text = 'User options'\n",
    "    )\n",
    "    \n",
    "    response = runtime_client.recognize_text(\n",
    "    botId = botId,\n",
    "    botAliasId = botAliasId,\n",
    "    localeId = localeId,\n",
    "    sessionId = sessionId,\n",
    "    text = 'Filter Cases'\n",
    "    )\n",
    "\n",
    "    response = runtime_client.recognize_text(\n",
    "    botId = botId,\n",
    "    botAliasId = botAliasId,\n",
    "    localeId = localeId,\n",
    "    sessionId = sessionId,\n",
    "    text = 'age'\n",
    "    )\n",
    "\n",
    "    response = runtime_client.recognize_text(\n",
    "    botId = botId,\n",
    "    botAliasId = botAliasId,\n",
    "    localeId = localeId,\n",
    "    sessionId = sessionId,\n",
    "    text = 'Yes'\n",
    "    )\n",
    "    filter_option = response['interpretations'][0]['intent']['slots']['filter_value']['value']['resolvedValues'][0]\n",
    "    runtime_client.close()\n",
    "\n",
    "    print(filter_option)\n",
    "    return filter_option\n",
    "    "
   ]
  },
  {
   "cell_type": "code",
   "execution_count": null,
   "metadata": {},
   "outputs": [],
   "source": [
    "get_filter_selection()"
   ]
  },
  {
   "cell_type": "code",
   "execution_count": null,
   "metadata": {},
   "outputs": [],
   "source": []
  }
 ],
 "metadata": {
  "kernelspec": {
   "display_name": "Bento-Chat-Box",
   "language": "python",
   "name": "python3"
  },
  "language_info": {
   "codemirror_mode": {
    "name": "ipython",
    "version": 3
   },
   "file_extension": ".py",
   "mimetype": "text/x-python",
   "name": "python",
   "nbconvert_exporter": "python",
   "pygments_lexer": "ipython3",
   "version": "3.12.2"
  }
 },
 "nbformat": 4,
 "nbformat_minor": 2
}
